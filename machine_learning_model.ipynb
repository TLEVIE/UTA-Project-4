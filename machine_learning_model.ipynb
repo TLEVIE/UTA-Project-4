{
  "cells": [
    {
      "cell_type": "code",
      "execution_count": 24,
      "metadata": {
        "id": "_J67FKq_NZ23"
      },
      "outputs": [],
      "source": [
        "import torch\n",
        "import pandas as pd\n",
        "import numpy as np\n",
        "from sklearn.preprocessing import LabelEncoder\n",
        "from torch.utils.data import Dataset, DataLoader\n",
        "from torch.nn.utils.rnn import pad_sequence\n",
        "from torch import nn\n",
        "import torchtext"
      ]
    },
    {
      "cell_type": "code",
      "execution_count": 25,
      "metadata": {
        "id": "XrjvNjvgNZ23"
      },
      "outputs": [],
      "source": [
        "# Load and preprocess the data\n",
        "df = pd.read_csv('train.csv')"
      ]
    },
    {
      "cell_type": "code",
      "execution_count": 26,
      "metadata": {
        "colab": {
          "base_uri": "https://localhost:8080/",
          "height": 206
        },
        "id": "TMGgvt_oNZ24",
        "outputId": "fe66bd2e-6462-43d0-cc9f-c9f1e0ce5337"
      },
      "outputs": [
        {
          "output_type": "execute_result",
          "data": {
            "text/plain": [
              "                           Song_Name  \\\n",
              "0   Sha La La La La (Come Back Home)   \n",
              "1                       Blood On Ice   \n",
              "2  Spring and Fall: To a Young Child   \n",
              "3             O can ye sew cushions?   \n",
              "4                             Mexico   \n",
              "\n",
              "                                               Lyric            Artist  \\\n",
              "0  Each man who sees you\\nWants to share your lov...        Rick James   \n",
              "1  The old Crow's cry the first warning\\nThe rumb...           Bathory   \n",
              "2  Margaret are you grieving\\nOver goldengrove un...  Natalie Merchant   \n",
              "3  O can ye sew cushions and can ye sew sheets\\nA...   Sarah Brightman   \n",
              "4  I don't get tired\\n\\nI'm either cooking dope o...       Kevin Gates   \n",
              "\n",
              "   Popularity        Genre  \n",
              "0         1.3   Soul Music  \n",
              "1         0.0        Metal  \n",
              "2         0.0         Rock  \n",
              "3         1.0      New Age  \n",
              "4         0.0  Black Music  "
            ],
            "text/html": [
              "\n",
              "  <div id=\"df-7cf7a5a8-bc66-4d51-8564-af0c8e6b7c5b\">\n",
              "    <div class=\"colab-df-container\">\n",
              "      <div>\n",
              "<style scoped>\n",
              "    .dataframe tbody tr th:only-of-type {\n",
              "        vertical-align: middle;\n",
              "    }\n",
              "\n",
              "    .dataframe tbody tr th {\n",
              "        vertical-align: top;\n",
              "    }\n",
              "\n",
              "    .dataframe thead th {\n",
              "        text-align: right;\n",
              "    }\n",
              "</style>\n",
              "<table border=\"1\" class=\"dataframe\">\n",
              "  <thead>\n",
              "    <tr style=\"text-align: right;\">\n",
              "      <th></th>\n",
              "      <th>Song_Name</th>\n",
              "      <th>Lyric</th>\n",
              "      <th>Artist</th>\n",
              "      <th>Popularity</th>\n",
              "      <th>Genre</th>\n",
              "    </tr>\n",
              "  </thead>\n",
              "  <tbody>\n",
              "    <tr>\n",
              "      <th>0</th>\n",
              "      <td>Sha La La La La (Come Back Home)</td>\n",
              "      <td>Each man who sees you\\nWants to share your lov...</td>\n",
              "      <td>Rick James</td>\n",
              "      <td>1.3</td>\n",
              "      <td>Soul Music</td>\n",
              "    </tr>\n",
              "    <tr>\n",
              "      <th>1</th>\n",
              "      <td>Blood On Ice</td>\n",
              "      <td>The old Crow's cry the first warning\\nThe rumb...</td>\n",
              "      <td>Bathory</td>\n",
              "      <td>0.0</td>\n",
              "      <td>Metal</td>\n",
              "    </tr>\n",
              "    <tr>\n",
              "      <th>2</th>\n",
              "      <td>Spring and Fall: To a Young Child</td>\n",
              "      <td>Margaret are you grieving\\nOver goldengrove un...</td>\n",
              "      <td>Natalie Merchant</td>\n",
              "      <td>0.0</td>\n",
              "      <td>Rock</td>\n",
              "    </tr>\n",
              "    <tr>\n",
              "      <th>3</th>\n",
              "      <td>O can ye sew cushions?</td>\n",
              "      <td>O can ye sew cushions and can ye sew sheets\\nA...</td>\n",
              "      <td>Sarah Brightman</td>\n",
              "      <td>1.0</td>\n",
              "      <td>New Age</td>\n",
              "    </tr>\n",
              "    <tr>\n",
              "      <th>4</th>\n",
              "      <td>Mexico</td>\n",
              "      <td>I don't get tired\\n\\nI'm either cooking dope o...</td>\n",
              "      <td>Kevin Gates</td>\n",
              "      <td>0.0</td>\n",
              "      <td>Black Music</td>\n",
              "    </tr>\n",
              "  </tbody>\n",
              "</table>\n",
              "</div>\n",
              "      <button class=\"colab-df-convert\" onclick=\"convertToInteractive('df-7cf7a5a8-bc66-4d51-8564-af0c8e6b7c5b')\"\n",
              "              title=\"Convert this dataframe to an interactive table.\"\n",
              "              style=\"display:none;\">\n",
              "        \n",
              "  <svg xmlns=\"http://www.w3.org/2000/svg\" height=\"24px\"viewBox=\"0 0 24 24\"\n",
              "       width=\"24px\">\n",
              "    <path d=\"M0 0h24v24H0V0z\" fill=\"none\"/>\n",
              "    <path d=\"M18.56 5.44l.94 2.06.94-2.06 2.06-.94-2.06-.94-.94-2.06-.94 2.06-2.06.94zm-11 1L8.5 8.5l.94-2.06 2.06-.94-2.06-.94L8.5 2.5l-.94 2.06-2.06.94zm10 10l.94 2.06.94-2.06 2.06-.94-2.06-.94-.94-2.06-.94 2.06-2.06.94z\"/><path d=\"M17.41 7.96l-1.37-1.37c-.4-.4-.92-.59-1.43-.59-.52 0-1.04.2-1.43.59L10.3 9.45l-7.72 7.72c-.78.78-.78 2.05 0 2.83L4 21.41c.39.39.9.59 1.41.59.51 0 1.02-.2 1.41-.59l7.78-7.78 2.81-2.81c.8-.78.8-2.07 0-2.86zM5.41 20L4 18.59l7.72-7.72 1.47 1.35L5.41 20z\"/>\n",
              "  </svg>\n",
              "      </button>\n",
              "      \n",
              "  <style>\n",
              "    .colab-df-container {\n",
              "      display:flex;\n",
              "      flex-wrap:wrap;\n",
              "      gap: 12px;\n",
              "    }\n",
              "\n",
              "    .colab-df-convert {\n",
              "      background-color: #E8F0FE;\n",
              "      border: none;\n",
              "      border-radius: 50%;\n",
              "      cursor: pointer;\n",
              "      display: none;\n",
              "      fill: #1967D2;\n",
              "      height: 32px;\n",
              "      padding: 0 0 0 0;\n",
              "      width: 32px;\n",
              "    }\n",
              "\n",
              "    .colab-df-convert:hover {\n",
              "      background-color: #E2EBFA;\n",
              "      box-shadow: 0px 1px 2px rgba(60, 64, 67, 0.3), 0px 1px 3px 1px rgba(60, 64, 67, 0.15);\n",
              "      fill: #174EA6;\n",
              "    }\n",
              "\n",
              "    [theme=dark] .colab-df-convert {\n",
              "      background-color: #3B4455;\n",
              "      fill: #D2E3FC;\n",
              "    }\n",
              "\n",
              "    [theme=dark] .colab-df-convert:hover {\n",
              "      background-color: #434B5C;\n",
              "      box-shadow: 0px 1px 3px 1px rgba(0, 0, 0, 0.15);\n",
              "      filter: drop-shadow(0px 1px 2px rgba(0, 0, 0, 0.3));\n",
              "      fill: #FFFFFF;\n",
              "    }\n",
              "  </style>\n",
              "\n",
              "      <script>\n",
              "        const buttonEl =\n",
              "          document.querySelector('#df-7cf7a5a8-bc66-4d51-8564-af0c8e6b7c5b button.colab-df-convert');\n",
              "        buttonEl.style.display =\n",
              "          google.colab.kernel.accessAllowed ? 'block' : 'none';\n",
              "\n",
              "        async function convertToInteractive(key) {\n",
              "          const element = document.querySelector('#df-7cf7a5a8-bc66-4d51-8564-af0c8e6b7c5b');\n",
              "          const dataTable =\n",
              "            await google.colab.kernel.invokeFunction('convertToInteractive',\n",
              "                                                     [key], {});\n",
              "          if (!dataTable) return;\n",
              "\n",
              "          const docLinkHtml = 'Like what you see? Visit the ' +\n",
              "            '<a target=\"_blank\" href=https://colab.research.google.com/notebooks/data_table.ipynb>data table notebook</a>'\n",
              "            + ' to learn more about interactive tables.';\n",
              "          element.innerHTML = '';\n",
              "          dataTable['output_type'] = 'display_data';\n",
              "          await google.colab.output.renderOutput(dataTable, element);\n",
              "          const docLink = document.createElement('div');\n",
              "          docLink.innerHTML = docLinkHtml;\n",
              "          element.appendChild(docLink);\n",
              "        }\n",
              "      </script>\n",
              "    </div>\n",
              "  </div>\n",
              "  "
            ]
          },
          "metadata": {},
          "execution_count": 26
        }
      ],
      "source": [
        "df.head()"
      ]
    },
    {
      "cell_type": "code",
      "execution_count": 27,
      "metadata": {
        "colab": {
          "base_uri": "https://localhost:8080/"
        },
        "id": "NGMYFKtcNZ24",
        "outputId": "198a8632-0485-4857-d3e3-f3d49cc266a8"
      },
      "outputs": [
        {
          "output_type": "execute_result",
          "data": {
            "text/plain": [
              "<bound method NDFrame.describe of                                 Song_Name  \\\n",
              "0        Sha La La La La (Come Back Home)   \n",
              "1                            Blood On Ice   \n",
              "2       Spring and Fall: To a Young Child   \n",
              "3                  O can ye sew cushions?   \n",
              "4                                  Mexico   \n",
              "...                                   ...   \n",
              "124126        Blame It (featuring T-Pain)   \n",
              "124127        Daughters Of The Soho Riots   \n",
              "124128                   What do You Want   \n",
              "124129       I wish you wouldn't say that   \n",
              "124130                                ABC   \n",
              "\n",
              "                                                    Lyric            Artist  \\\n",
              "0       Each man who sees you\\nWants to share your lov...        Rick James   \n",
              "1       The old Crow's cry the first warning\\nThe rumb...           Bathory   \n",
              "2       Margaret are you grieving\\nOver goldengrove un...  Natalie Merchant   \n",
              "3       O can ye sew cushions and can ye sew sheets\\nA...   Sarah Brightman   \n",
              "4       I don't get tired\\n\\nI'm either cooking dope o...       Kevin Gates   \n",
              "...                                                   ...               ...   \n",
              "124126  Blame it on the Goose (goose)\\nGot you feeling...        Jamie Foxx   \n",
              "124127  I have your good clothes in the car\\nSo cut yo...      The National   \n",
              "124128  \"I was carried to you\\nBy the hands of my fate...  Yngwie Malmsteen   \n",
              "124129  I wish you wouldn't say that\\nI thought I'd ha...     Talking Heads   \n",
              "124130  A buh-buh buh buh\\nA buh-buh buh buh\\n\\nYou we...   Michael Jackson   \n",
              "\n",
              "        Popularity        Genre  \n",
              "0              1.3   Soul Music  \n",
              "1              0.0        Metal  \n",
              "2              0.0         Rock  \n",
              "3              1.0      New Age  \n",
              "4              0.0  Black Music  \n",
              "...            ...          ...  \n",
              "124126         0.0   Soul Music  \n",
              "124127         0.0        Indie  \n",
              "124128         0.0  Heavy Metal  \n",
              "124129         1.0     Pós-Punk  \n",
              "124130        36.0          Pop  \n",
              "\n",
              "[124131 rows x 5 columns]>"
            ]
          },
          "metadata": {},
          "execution_count": 27
        }
      ],
      "source": [
        "df.describe"
      ]
    },
    {
      "cell_type": "code",
      "execution_count": 28,
      "metadata": {
        "id": "5g-vCHonNZ24"
      },
      "outputs": [],
      "source": [
        "tokenizer = torchtext.data.utils.get_tokenizer('basic_english')\n",
        "lyrics = []\n",
        "for lyric in df['Lyric']:\n",
        "    tokenized_lyric = tokenizer(lyric)\n",
        "    lyrics.append(tokenized_lyric)\n",
        "artists = df['Artist'].tolist()\n",
        "genres = df['Genre'].tolist()\n"
      ]
    },
    {
      "cell_type": "code",
      "execution_count": 29,
      "metadata": {
        "id": "tN_em9otNZ25"
      },
      "outputs": [],
      "source": [
        "# Encode categorical features\n",
        "artist_encoder = LabelEncoder()\n",
        "genre_encoder = LabelEncoder()\n",
        "artist_encoded = artist_encoder.fit_transform(artists)\n",
        "genre_encoded = genre_encoder.fit_transform(genres)"
      ]
    },
    {
      "cell_type": "code",
      "execution_count": 30,
      "metadata": {
        "id": "ij206-aBNZ25"
      },
      "outputs": [],
      "source": [
        "# Create a vocabulary and encode tokens\n",
        "vocab = set(token for lyric in lyrics for token in lyric)\n",
        "vocab_to_idx = {token: idx+1 for idx, token in enumerate(vocab)}\n",
        "\n",
        "lyrics_encoded = [[vocab_to_idx[token] for token in lyric] for lyric in lyrics]"
      ]
    },
    {
      "cell_type": "code",
      "execution_count": 31,
      "metadata": {
        "id": "g7BhLpToNZ25"
      },
      "outputs": [],
      "source": [
        "# Pad sequences to a fixed length\n",
        "max_seq_length = 250\n",
        "lyrics_padded = [torch.LongTensor(seq[:max_seq_length]) if len(seq) > max_seq_length else torch.LongTensor(seq) for seq in lyrics_encoded]\n",
        "X = torch.nn.utils.rnn.pad_sequence(lyrics_padded, batch_first=True).transpose(1,0)"
      ]
    },
    {
      "cell_type": "code",
      "execution_count": 32,
      "metadata": {
        "id": "XTQCkZ6cNZ25"
      },
      "outputs": [],
      "source": [
        "# Convert data to PyTorch tensors\n",
        "y_artist = torch.LongTensor(artist_encoded)\n",
        "y_genre = torch.LongTensor(genre_encoded)"
      ]
    },
    {
      "cell_type": "code",
      "execution_count": 33,
      "metadata": {
        "id": "R4KL9DCmNZ25"
      },
      "outputs": [],
      "source": [
        "# Define a PyTorch dataset\n",
        "class SongLyricsDataset(Dataset):\n",
        "    def __init__(self, lyrics, artists, genres):\n",
        "        self.lyrics = lyrics\n",
        "        self.artists = artists\n",
        "        self.genres = genres\n",
        "\n",
        "    def __len__(self):\n",
        "        return len(self.lyrics)\n",
        "\n",
        "    def __getitem__(self, idx):\n",
        "        return self.lyrics[idx], self.artists[idx], self.genres[idx]"
      ]
    },
    {
      "cell_type": "code",
      "execution_count": 34,
      "metadata": {
        "id": "CR07FYOSNZ26"
      },
      "outputs": [],
      "source": [
        "# Split data into training and test sets\n",
        "num_samples = len(X)\n",
        "split_ratio = 0.8\n",
        "split_idx = int(num_samples*split_ratio)\n",
        "\n",
        "train_dataset = SongLyricsDataset(X[:split_idx], y_artist[:split_idx], y_genre[:split_idx])\n",
        "test_dataset = SongLyricsDataset(X[split_idx:], y_artist[split_idx:], y_genre[split_idx:])"
      ]
    },
    {
      "cell_type": "code",
      "execution_count": 35,
      "metadata": {
        "colab": {
          "base_uri": "https://localhost:8080/"
        },
        "id": "2erji15WNZ26",
        "outputId": "f333e9a7-f13e-4bf7-a2b4-799cf78970e5"
      },
      "outputs": [
        {
          "output_type": "execute_result",
          "data": {
            "text/plain": [
              "(200, 50)"
            ]
          },
          "metadata": {},
          "execution_count": 35
        }
      ],
      "source": [
        "len(train_dataset), len(test_dataset)"
      ]
    },
    {
      "cell_type": "code",
      "execution_count": 36,
      "metadata": {
        "id": "6kj18IaBNZ26"
      },
      "outputs": [],
      "source": [
        "# Define a PyTorch model\n",
        "class LyricsClassifier(nn.Module):\n",
        "    def __init__(self, vocab_size, num_artists, num_genres, hidden_size):\n",
        "        super().__init__()\n",
        "        self.embedding = nn.Embedding(vocab_size, hidden_size)\n",
        "        self.gru = nn.GRU(hidden_size, hidden_size, batch_first=True)\n",
        "        self.fc_artist = nn.Linear(hidden_size, num_artists)\n",
        "        self.fc_genre = nn.Linear(hidden_size, num_genres)\n",
        "\n",
        "    def forward(self, x):\n",
        "        x = self.embedding(x)\n",
        "        _, h = self.gru(x)\n",
        "        h = h.squeeze(0)\n",
        "        artist_logits = self.fc_artist(h)\n",
        "        genre_logits = self.fc_genre(h)\n",
        "        return artist_logits, genre_logits"
      ]
    },
    {
      "cell_type": "code",
      "execution_count": 37,
      "metadata": {
        "id": "_07NthbvNZ26"
      },
      "outputs": [],
      "source": [
        "# Define hyperparameters\n",
        "batch_size = 1\n",
        "learning_rate = 0.1"
      ]
    },
    {
      "cell_type": "code",
      "execution_count": 38,
      "metadata": {
        "id": "F5MN7oJ8NZ26"
      },
      "outputs": [],
      "source": [
        "# Create data loaders\n",
        "train_loader = DataLoader(train_dataset, batch_size=batch_size, shuffle=True)\n",
        "test_loader = DataLoader(test_dataset, batch_size=batch_size, shuffle=False)"
      ]
    },
    {
      "cell_type": "code",
      "execution_count": 39,
      "metadata": {
        "id": "90BIjeySNZ27"
      },
      "outputs": [],
      "source": [
        "device = 'cuda' if torch.cuda.is_available() else 'cpu'"
      ]
    },
    {
      "cell_type": "code",
      "execution_count": 40,
      "metadata": {
        "colab": {
          "base_uri": "https://localhost:8080/"
        },
        "id": "bvoI__YmNZ27",
        "outputId": "aa417688-569e-41bc-96e2-16abc33803a6"
      },
      "outputs": [
        {
          "output_type": "execute_result",
          "data": {
            "text/plain": [
              "(200, 50)"
            ]
          },
          "metadata": {},
          "execution_count": 40
        }
      ],
      "source": [
        "len(train_loader), len(test_loader)"
      ]
    },
    {
      "cell_type": "code",
      "execution_count": 41,
      "metadata": {
        "colab": {
          "base_uri": "https://localhost:8080/"
        },
        "id": "uGLmF05rNZ27",
        "outputId": "72636992-b544-4f1f-c6f4-2329c52030ce"
      },
      "outputs": [
        {
          "output_type": "execute_result",
          "data": {
            "text/plain": [
              "torch.Size([250, 124131])"
            ]
          },
          "metadata": {},
          "execution_count": 41
        }
      ],
      "source": [
        "X.shape"
      ]
    },
    {
      "cell_type": "code",
      "execution_count": 42,
      "metadata": {
        "id": "sDEPm_HNNZ27"
      },
      "outputs": [],
      "source": [
        "vocab_size = len(vocab_to_idx) + 1"
      ]
    },
    {
      "cell_type": "code",
      "execution_count": 43,
      "metadata": {
        "colab": {
          "base_uri": "https://localhost:8080/"
        },
        "id": "7l7_USM_NZ27",
        "outputId": "8b6e2c37-7fa7-460c-f948-c9d8fd08ab1c"
      },
      "outputs": [
        {
          "output_type": "execute_result",
          "data": {
            "text/plain": [
              "LyricsClassifier(\n",
              "  (embedding): Embedding(225671, 128)\n",
              "  (gru): GRU(128, 128, batch_first=True)\n",
              "  (fc_artist): Linear(in_features=128, out_features=2392, bias=True)\n",
              "  (fc_genre): Linear(in_features=128, out_features=72, bias=True)\n",
              ")"
            ]
          },
          "metadata": {},
          "execution_count": 43
        }
      ],
      "source": [
        "# Initialize the model and optimizer\n",
        "input_size = len(vocab_to_idx) + 1 # add 1 for padding token\n",
        "num_artists = len(artist_encoder.classes_)\n",
        "num_genres = len(genre_encoder.classes_)\n",
        "hidden_size = 128\n",
        "\n",
        "model_0 = LyricsClassifier(input_size, num_artists, num_genres, hidden_size)\n",
        "optimizer = torch.optim.Adam(model_0.parameters(), lr=learning_rate)\n",
        "\n",
        "model_0"
      ]
    },
    {
      "cell_type": "code",
      "execution_count": 44,
      "metadata": {
        "id": "whMC3Ue_NZ28"
      },
      "outputs": [],
      "source": [
        "# Define the loss function\n",
        "loss_fn = nn.CrossEntropyLoss()"
      ]
    },
    {
      "cell_type": "code",
      "execution_count": 48,
      "metadata": {
        "colab": {
          "base_uri": "https://localhost:8080/",
          "height": 380
        },
        "id": "lyE75iT_NZ28",
        "outputId": "93d569fb-7fa3-4d18-d953-dcf0eafaca43"
      },
      "outputs": [
        {
          "output_type": "error",
          "ename": "KeyboardInterrupt",
          "evalue": "ignored",
          "traceback": [
            "\u001b[0;31m---------------------------------------------------------------------------\u001b[0m",
            "\u001b[0;31mKeyboardInterrupt\u001b[0m                         Traceback (most recent call last)",
            "\u001b[0;32m<ipython-input-48-1a86a15ad4bb>\u001b[0m in \u001b[0;36m<cell line: 3>\u001b[0;34m()\u001b[0m\n\u001b[1;32m     20\u001b[0m         \u001b[0mloss\u001b[0m \u001b[0;34m=\u001b[0m \u001b[0mloss_artist\u001b[0m \u001b[0;34m+\u001b[0m \u001b[0mloss_genre\u001b[0m\u001b[0;34m\u001b[0m\u001b[0;34m\u001b[0m\u001b[0m\n\u001b[1;32m     21\u001b[0m \u001b[0;34m\u001b[0m\u001b[0m\n\u001b[0;32m---> 22\u001b[0;31m         \u001b[0mloss\u001b[0m\u001b[0;34m.\u001b[0m\u001b[0mbackward\u001b[0m\u001b[0;34m(\u001b[0m\u001b[0;34m)\u001b[0m\u001b[0;34m\u001b[0m\u001b[0;34m\u001b[0m\u001b[0m\n\u001b[0m\u001b[1;32m     23\u001b[0m         \u001b[0moptimizer\u001b[0m\u001b[0;34m.\u001b[0m\u001b[0mstep\u001b[0m\u001b[0;34m(\u001b[0m\u001b[0;34m)\u001b[0m\u001b[0;34m\u001b[0m\u001b[0;34m\u001b[0m\u001b[0m\n\u001b[1;32m     24\u001b[0m \u001b[0;34m\u001b[0m\u001b[0m\n",
            "\u001b[0;32m/usr/local/lib/python3.9/dist-packages/torch/_tensor.py\u001b[0m in \u001b[0;36mbackward\u001b[0;34m(self, gradient, retain_graph, create_graph, inputs)\u001b[0m\n\u001b[1;32m    485\u001b[0m                 \u001b[0minputs\u001b[0m\u001b[0;34m=\u001b[0m\u001b[0minputs\u001b[0m\u001b[0;34m,\u001b[0m\u001b[0;34m\u001b[0m\u001b[0;34m\u001b[0m\u001b[0m\n\u001b[1;32m    486\u001b[0m             )\n\u001b[0;32m--> 487\u001b[0;31m         torch.autograd.backward(\n\u001b[0m\u001b[1;32m    488\u001b[0m             \u001b[0mself\u001b[0m\u001b[0;34m,\u001b[0m \u001b[0mgradient\u001b[0m\u001b[0;34m,\u001b[0m \u001b[0mretain_graph\u001b[0m\u001b[0;34m,\u001b[0m \u001b[0mcreate_graph\u001b[0m\u001b[0;34m,\u001b[0m \u001b[0minputs\u001b[0m\u001b[0;34m=\u001b[0m\u001b[0minputs\u001b[0m\u001b[0;34m\u001b[0m\u001b[0;34m\u001b[0m\u001b[0m\n\u001b[1;32m    489\u001b[0m         )\n",
            "\u001b[0;32m/usr/local/lib/python3.9/dist-packages/torch/autograd/__init__.py\u001b[0m in \u001b[0;36mbackward\u001b[0;34m(tensors, grad_tensors, retain_graph, create_graph, grad_variables, inputs)\u001b[0m\n\u001b[1;32m    198\u001b[0m     \u001b[0;31m# some Python versions print out the first line of a multi-line function\u001b[0m\u001b[0;34m\u001b[0m\u001b[0;34m\u001b[0m\u001b[0m\n\u001b[1;32m    199\u001b[0m     \u001b[0;31m# calls in the traceback and some print out the last line\u001b[0m\u001b[0;34m\u001b[0m\u001b[0;34m\u001b[0m\u001b[0m\n\u001b[0;32m--> 200\u001b[0;31m     Variable._execution_engine.run_backward(  # Calls into the C++ engine to run the backward pass\n\u001b[0m\u001b[1;32m    201\u001b[0m         \u001b[0mtensors\u001b[0m\u001b[0;34m,\u001b[0m \u001b[0mgrad_tensors_\u001b[0m\u001b[0;34m,\u001b[0m \u001b[0mretain_graph\u001b[0m\u001b[0;34m,\u001b[0m \u001b[0mcreate_graph\u001b[0m\u001b[0;34m,\u001b[0m \u001b[0minputs\u001b[0m\u001b[0;34m,\u001b[0m\u001b[0;34m\u001b[0m\u001b[0;34m\u001b[0m\u001b[0m\n\u001b[1;32m    202\u001b[0m         allow_unreachable=True, accumulate_grad=True)  # Calls into the C++ engine to run the backward pass\n",
            "\u001b[0;31mKeyboardInterrupt\u001b[0m: "
          ]
        }
      ],
      "source": [
        "num_epochs = 3\n",
        "\n",
        "for epoch in range(num_epochs):\n",
        "    model_0.train()\n",
        "    train_loss = 0\n",
        "    train_acc_artist = 0\n",
        "    train_acc_genre = 0\n",
        "    num_train_samples = 0\n",
        "    \n",
        "    for i, (x, y_artist_true, y_genre_true) in enumerate(train_dataset):\n",
        "        x = x.to(device)\n",
        "        y_artist_true = y_artist_true.to(device)\n",
        "        y_genre_true = y_genre_true.to(device)\n",
        "\n",
        "        optimizer.zero_grad()\n",
        "\n",
        "        y_artist_pred, y_genre_pred = model_0(x)\n",
        "        loss_artist = loss_fn(y_artist_pred, y_artist_true)\n",
        "        loss_genre = loss_fn(y_genre_pred, y_genre_true)\n",
        "        loss = loss_artist + loss_genre\n",
        "\n",
        "        loss.backward()\n",
        "        optimizer.step()\n",
        "\n",
        "        with torch.no_grad():\n",
        "            train_loss += loss.item()\n",
        "            train_acc_artist += (y_artist_pred.argmax(dim=-1) == y_artist_true).sum().item()\n",
        "            train_acc_genre += (y_genre_pred.argmax(dim=-1) == y_genre_true).sum().item()\n",
        "            num_train_samples += len(x)\n",
        "\n",
        "    train_loss /= num_train_samples\n",
        "    train_acc_artist /= num_train_samples\n",
        "    train_acc_genre /= num_train_samples\n",
        "\n",
        "    # Evaluate the model\n",
        "    model_0.eval()\n",
        "    test_loss = 0\n",
        "    test_acc_artist = 0\n",
        "    test_acc_genre = 0\n",
        "    num_test_samples = 0\n",
        "\n",
        "    for i, (x, y_artist_true, y_genre_true) in enumerate(test_dataset):\n",
        "        x = x.to(device)\n",
        "        y_artist_true = y_artist_true.to(device)\n",
        "        y_genre_true = y_genre_true.to(device)\n",
        "\n",
        "        y_artist_pred, y_genre_pred = model_0(x)\n",
        "        loss_artist = loss_fn(y_artist_pred, y_artist_true)\n",
        "        loss_genre = loss_fn(y_genre_pred, y_genre_true)\n",
        "        loss = loss_artist + loss_genre\n",
        "\n",
        "        with torch.no_grad():\n",
        "            test_loss += loss.item()\n",
        "            test_acc_artist += (y_artist_pred.argmax(dim=-1) == y_artist_true).sum().item()\n",
        "            test_acc_genre += (y_genre_pred.argmax(dim=-1) == y_genre_true).sum().item()\n",
        "            num_test_samples += len(x)\n",
        "\n",
        "    test_loss /= num_test_samples\n",
        "    test_acc_artist /= num_test_samples\n",
        "    test_acc_genre /= num_test_samples\n",
        "\n",
        "    print(f'Epoch {epoch+1}/{num_epochs}, Train Loss: {train_loss:.4f}, Train Artist Acc: {train_acc_artist:.4f}, Train Genre Acc: {train_acc_genre:.4f}, Test Loss: {test_loss:.4f}, Test Artist Acc: {test_acc_artist:.4f}, Test Genre Acc: {test_acc_genre:.4f}')"
      ]
    },
    {
      "cell_type": "code",
      "execution_count": null,
      "metadata": {
        "id": "QiizK0bANZ28"
      },
      "outputs": [],
      "source": [
        "#Define a function to predict artist and genre from lyrics\n",
        "\n",
        "def predict_lyrics(model, vocab_to_idx, artist_encoder, genre_encoder, lyrics):\n",
        "    model.eval()\n",
        "    tokens = tokenizer(lyrics)\n",
        "    encoded = [[vocab_to_idx.get(token, 0) for token in tokens]]\n",
        "    padded = [torch.LongTensor(seq[:max_seq_length] + [0]*(max_seq_length-len(seq))) for seq in encoded]\n",
        "    x = pad_sequence(padded, batch_first=True)\n",
        "    artist_logits, genre_logits = model(x.to(device))\n",
        "    artist_pred = artist_encoder.inverse_transform(artist_logits.argmax(dim=-1).cpu().numpy())[0]\n",
        "    genre_pred = genre_encoder.inverse_transform(genre_logits.argmax(dim=-1).cpu().numpy())[0]\n",
        "    return artist_pred, genre_pred\n"
      ]
    },
    {
      "cell_type": "code",
      "execution_count": null,
      "metadata": {
        "id": "bpoWXbWjNZ28"
      },
      "outputs": [],
      "source": [
        "\n",
        "lyrics = ''\n",
        "artist_pred, genre_pred = predict_lyrics(model_0, vocab_to_idx, artist_encoder, genre_encoder, lyrics)\n",
        "print(f\"Predicted Artist: {artist_pred}, Predicted Genre: {genre_pred}\")"
      ]
    },
    {
      "cell_type": "code",
      "execution_count": null,
      "metadata": {
        "id": "n7t9iX1xNZ28"
      },
      "outputs": [],
      "source": []
    },
    {
      "cell_type": "code",
      "execution_count": null,
      "metadata": {
        "id": "zvxes5s7NZ28"
      },
      "outputs": [],
      "source": []
    },
    {
      "cell_type": "code",
      "execution_count": null,
      "metadata": {
        "id": "ElgQEUI5NZ28"
      },
      "outputs": [],
      "source": []
    },
    {
      "cell_type": "code",
      "execution_count": null,
      "metadata": {
        "id": "M2lt_kU4NZ29"
      },
      "outputs": [],
      "source": []
    },
    {
      "cell_type": "code",
      "execution_count": null,
      "metadata": {
        "id": "eWqLTAXrNZ29"
      },
      "outputs": [],
      "source": []
    },
    {
      "cell_type": "code",
      "execution_count": null,
      "metadata": {
        "id": "LyQqJkQFNZ29"
      },
      "outputs": [],
      "source": []
    },
    {
      "cell_type": "code",
      "execution_count": null,
      "metadata": {
        "id": "W0ClFluHNZ29"
      },
      "outputs": [],
      "source": []
    },
    {
      "cell_type": "code",
      "execution_count": null,
      "metadata": {
        "id": "1VUjDIhzNZ29"
      },
      "outputs": [],
      "source": []
    }
  ],
  "metadata": {
    "kernelspec": {
      "display_name": "Python 3.10.10 ('MachineLearning')",
      "language": "python",
      "name": "python3"
    },
    "language_info": {
      "codemirror_mode": {
        "name": "ipython",
        "version": 3
      },
      "file_extension": ".py",
      "mimetype": "text/x-python",
      "name": "python",
      "nbconvert_exporter": "python",
      "pygments_lexer": "ipython3",
      "version": "3.10.10"
    },
    "orig_nbformat": 4,
    "vscode": {
      "interpreter": {
        "hash": "7896e85f07d35125b85cd5993e01f81c5c80613c7083fa8d5362f2157f37cdbc"
      }
    },
    "colab": {
      "provenance": []
    }
  },
  "nbformat": 4,
  "nbformat_minor": 0
}